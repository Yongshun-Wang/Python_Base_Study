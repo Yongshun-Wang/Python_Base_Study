{
 "cells": [
  {
   "cell_type": "code",
   "execution_count": 8,
   "id": "initial_id",
   "metadata": {
    "collapsed": true,
    "ExecuteTime": {
     "end_time": "2025-07-21T02:06:45.415292Z",
     "start_time": "2025-07-21T02:06:45.402740Z"
    }
   },
   "outputs": [
    {
     "data": {
      "text/plain": "    name  age  score\n1    tom   16   60.5\n2   jack   17   84.0\n3  alice   18   63.0\n4    bob   17   92.0\n5  allen   16   82.5",
      "text/html": "<div>\n<style scoped>\n    .dataframe tbody tr th:only-of-type {\n        vertical-align: middle;\n    }\n\n    .dataframe tbody tr th {\n        vertical-align: top;\n    }\n\n    .dataframe thead th {\n        text-align: right;\n    }\n</style>\n<table border=\"1\" class=\"dataframe\">\n  <thead>\n    <tr style=\"text-align: right;\">\n      <th></th>\n      <th>name</th>\n      <th>age</th>\n      <th>score</th>\n    </tr>\n  </thead>\n  <tbody>\n    <tr>\n      <th>1</th>\n      <td>tom</td>\n      <td>16</td>\n      <td>60.5</td>\n    </tr>\n    <tr>\n      <th>2</th>\n      <td>jack</td>\n      <td>17</td>\n      <td>84.0</td>\n    </tr>\n    <tr>\n      <th>3</th>\n      <td>alice</td>\n      <td>18</td>\n      <td>63.0</td>\n    </tr>\n    <tr>\n      <th>4</th>\n      <td>bob</td>\n      <td>17</td>\n      <td>92.0</td>\n    </tr>\n    <tr>\n      <th>5</th>\n      <td>allen</td>\n      <td>16</td>\n      <td>82.5</td>\n    </tr>\n  </tbody>\n</table>\n</div>"
     },
     "execution_count": 8,
     "metadata": {},
     "output_type": "execute_result"
    }
   ],
   "source": [
    "import pandas as pd\n",
    "#通过series来创建\n",
    "s1 = pd.Series([1,2,3,4,5],index = ['a','b','c','d','e'])\n",
    "s2 = pd.Series([6,7,8,9,10],index = ['a','b','c','d','e'])\n",
    "df = pd.DataFrame([s1,s2])\n",
    "#通过字典来创建\n",
    "df = pd.DataFrame(\n",
    "    {\n",
    "        \n",
    "        \"name\":['tom','jack','alice','bob','allen'],\n",
    "        \"age\":[16,17,18,17,16],\n",
    "        \"score\":[60.5,84,63,92,82.5]\n",
    "    },index = [1,2,3,4,5],columns = [\"name\",\"age\",\"score\"]\n",
    ")\n",
    "df"
   ]
  },
  {
   "cell_type": "code",
   "outputs": [
    {
     "name": "stdout",
     "output_type": "stream",
     "text": [
      "行索引:\n",
      "Index([1, 2, 3, 4, 5], dtype='int64')\n",
      "列标签:\n",
      "Index(['name', 'age', 'score'], dtype='object')\n",
      "值\n",
      "[['tom' 16 60.5]\n",
      " ['jack' 17 84.0]\n",
      " ['alice' 18 63.0]\n",
      " ['bob' 17 92.0]\n",
      " ['allen' 16 82.5]]\n"
     ]
    }
   ],
   "source": [
    "print('行索引:')\n",
    "print(df.index)\n",
    "print('列标签:')\n",
    "print(df.columns)\n",
    "print('值')\n",
    "print(df.values)"
   ],
   "metadata": {
    "collapsed": false,
    "ExecuteTime": {
     "end_time": "2025-07-21T02:14:44.730829Z",
     "start_time": "2025-07-21T02:14:44.725392Z"
    }
   },
   "id": "6962666a6a4dbcd0",
   "execution_count": 10
  },
  {
   "cell_type": "markdown",
   "source": [
    "## 学生成绩分析"
   ],
   "metadata": {
    "collapsed": false
   },
   "id": "d8d698b64037c0f0"
  },
  {
   "cell_type": "code",
   "outputs": [
    {
     "name": "stdout",
     "output_type": "stream",
     "text": [
      "    name  math  en  zn  sum       mean\n",
      "4  alice    88  92  85  265  88.333333\n",
      "5  dylan    95  80  90  265  88.333333\n",
      "2    tom    92  88  80  260  86.666667\n",
      "    name  math  en  zn  sum       mean\n",
      "4  alice    88  92  85  265  88.333333\n",
      "5  dylan    95  80  90  265  88.333333\n",
      "2    tom    92  88  80  260  86.666667\n"
     ]
    }
   ],
   "source": [
    "data = {\n",
    "    \"name\":['joe','tom','jack','alice','dylan'],\n",
    "    \"math\":[85,92,78,88,95],\n",
    "    \"en\":[90,88,85,92,80],\n",
    "    \"zn\":[75,80,88,85,90]\n",
    "}\n",
    "df = pd.DataFrame(\n",
    "    data,index = [1,2,3,4,5]\n",
    ")\n",
    "#1.计算每位学生总分和平均分\n",
    "df['sum']=df[['math','en','zn']].sum(axis=1)\n",
    "df['mean']=df['sum']/3\n",
    "#找出数学成绩高于90分或者英语成绩高于85分的学生\n",
    "df[(df['math']>90)|(df['en']>85)]\n",
    "r1=df.sort_values('sum',ascending=False).head(3)\n",
    "r2=df.nlargest(3,columns=['sum'])\n",
    "print(r1)\n",
    "print(r2)"
   ],
   "metadata": {
    "collapsed": false,
    "ExecuteTime": {
     "end_time": "2025-07-21T02:37:17.463321Z",
     "start_time": "2025-07-21T02:37:17.447883Z"
    }
   },
   "id": "2d553a41995ac183",
   "execution_count": 27
  }
 ],
 "metadata": {
  "kernelspec": {
   "display_name": "Python 3",
   "language": "python",
   "name": "python3"
  },
  "language_info": {
   "codemirror_mode": {
    "name": "ipython",
    "version": 2
   },
   "file_extension": ".py",
   "mimetype": "text/x-python",
   "name": "python",
   "nbconvert_exporter": "python",
   "pygments_lexer": "ipython2",
   "version": "2.7.6"
  }
 },
 "nbformat": 4,
 "nbformat_minor": 5
}
