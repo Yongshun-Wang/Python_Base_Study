{
 "cells": [
  {
   "cell_type": "code",
   "id": "initial_id",
   "metadata": {
    "collapsed": true
   },
   "source": [
    "from netCDF4 import Dataset\n",
    "import xarray as xr\n",
    "import numpy as np\n",
    "import pandas as pd\n",
    "import numpy as np\n",
    "\n",
    "# 读取文件\n",
    "filepath = r'E:\\taphon Data\\MODE\\ModE-RA_m041.nc'\n",
    "nc = Dataset(filepath)"
   ],
   "outputs": [],
   "execution_count": null
  },
  {
   "metadata": {},
   "cell_type": "code",
   "source": [
    "sx = nc.ncattrs()\n",
    "print(sx)\n",
    "\n",
    "zd = nc.variables\n",
    "print(zd)"
   ],
   "id": "c925658bb5378877",
   "outputs": [],
   "execution_count": null
  },
  {
   "metadata": {},
   "cell_type": "code",
   "source": "data = xr.open_dataset(filepath)",
   "id": "1709de335f096fcb",
   "outputs": [],
   "execution_count": null
  },
  {
   "metadata": {},
   "cell_type": "code",
   "source": "data = data.to_dataframe()\n",
   "id": "8afc6e72c9396118",
   "outputs": [],
   "execution_count": null
  },
  {
   "metadata": {},
   "cell_type": "code",
   "source": "data.to_csv(r'E:\\taphon Data\\MODE\\ModE-RA_m041.csv')",
   "id": "6a2d7e35c2739fb1",
   "outputs": [],
   "execution_count": null
  }
 ],
 "metadata": {
  "kernelspec": {
   "display_name": "PyCharm Kernel",
   "language": "python",
   "name": "myenv"
  },
  "language_info": {
   "codemirror_mode": {
    "name": "ipython",
    "version": 2
   },
   "file_extension": ".py",
   "mimetype": "text/x-python",
   "name": "python",
   "nbconvert_exporter": "python",
   "pygments_lexer": "ipython2",
   "version": "2.7.6"
  }
 },
 "nbformat": 4,
 "nbformat_minor": 5
}
