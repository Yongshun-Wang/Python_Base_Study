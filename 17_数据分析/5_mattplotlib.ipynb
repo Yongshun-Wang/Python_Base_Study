{
 "cells": [
  {
   "cell_type": "code",
   "execution_count": null,
   "id": "initial_id",
   "metadata": {
    "collapsed": true
   },
   "outputs": [],
   "source": [
    "'''\n",
    "折线图plot\n",
    "条形图bar\n",
    "饼图pie\n",
    "散点图scatter\n",
    "箱线图boxplot\n",
    "'''\n",
    "import matplotlib.pyplot as plt\n",
    "from matplotlib import rcParams #字体"
   ]
  },
  {
   "cell_type": "code",
   "execution_count": null,
   "id": "6023f3e4d4f19004",
   "metadata": {
    "collapsed": false,
    "is_executing": true
   },
   "outputs": [],
   "source": [
    "#绘制折线图\n",
    "rcParams['font.family'] = 'SimHei'\n",
    "#创建图表,设置大小\n",
    "plt.figure(figsize=(10,5))  \n",
    "#绘制数据\n",
    "month = ['一月', '二月', '三月','四月']\n",
    "sales = [150, 200, 180,230]\n",
    "plt.plot(month, sales,label ='产品A',color = 'orange',linewidth=2,linestyle ='--',marker ='o')\n",
    "#添加标题\n",
    "plt.title('2025年销售趋势图',color = 'blue', fontsize = 20)\n",
    "#添加坐标轴标签\n",
    "plt.xlabel('月份',fontsize = 15)\n",
    "plt.ylabel('销售额',fontsize = 15)\n",
    "#添加图例\n",
    "plt.legend(loc = 'upper left',fontsize = 15 )\n",
    "#背景添加网格线\n",
    "plt.grid(True,alpha = 0.2,color = 'black',linestyle = '--')\n",
    "#坐标轴刻度字体大小\n",
    "plt.xticks(rotation = 0, fontsize =15)\n",
    "plt.yticks(rotation = 0, fontsize =15)\n",
    "#设置y轴范围\n",
    "plt.ylim(bottom=0,top=250)\n",
    "#每个数据点显示数值\n",
    "for x,y in zip(month,sales):\n",
    "    print(x,y)\n",
    "    plt.text(x,y+5,str(y),ha = 'center',va = 'bottom',fontsize =15)\n",
    "#显示图表\n",
    "plt.show()"
   ]
  },
  {
   "cell_type": "code",
   "execution_count": null,
   "id": "1bae5516c079e8df",
   "metadata": {
    "collapsed": false
   },
   "outputs": [],
   "source": [
    "#绘制柱状图\n",
    "rcParams['font.family'] = 'SimHei'\n",
    "#创建图表,设置大小\n",
    "plt.figure(figsize=(10,5))  \n",
    "#绘制数据\n",
    "subjects = ['ch','en','math','sci']\n",
    "scores = [78,88,90,80]\n",
    "#绘制柱状图\n",
    "plt.bar(subjects,scores,label = 'Joe',width =0.4)\n",
    "#添加标题\n",
    "plt.title('Joe期末考试分数图',color = 'blue', fontsize = 20)\n",
    "#添加坐标轴标签\n",
    "plt.xlabel('科目',fontsize = 15)\n",
    "plt.ylabel('分数',fontsize = 15)\n",
    "#添加图例\n",
    "plt.legend(loc = 'upper right',fontsize = 15 )\n",
    "# 背景添加网格线\n",
    "plt.grid(True,alpha = 0.2,color = 'black',linestyle = '--')\n",
    "#坐标轴刻度字体大小\n",
    "plt.xticks(rotation = 0, fontsize =15)\n",
    "plt.yticks(rotation = 0, fontsize =15)\n",
    "#设置y轴范围\n",
    "plt.ylim(bottom=0,top=100)\n",
    "#每个数据点显示数值\n",
    "for x,y in zip(subjects,scores):\n",
    "    print(x,y)\n",
    "    plt.text(x,y,str(y),ha = 'center',va = 'bottom',fontsize =15)\n",
    "#自动优化排版\n",
    "# plt.tight_layout()\n",
    "#显示图表\n",
    "plt.show()"
   ]
  },
  {
   "cell_type": "code",
   "execution_count": null,
   "id": "bc7c374133efeeb4",
   "metadata": {
    "collapsed": false
   },
   "outputs": [],
   "source": [
    "#绘制条形图\n",
    "rcParams['font.family'] = 'SimHei'\n",
    "#创建图表,设置大小\n",
    "plt.figure(figsize=(10,5))  \n",
    "#绘制数据\n",
    "countries = ['US','China','Japan','Germany','India']\n",
    "GDP = [1500,1220,300,700,400]\n",
    "# #绘制条形图\n",
    "plt.barh(countries,GDP,color = 'orange',align = 'center')\n",
    "# #添加标题\n",
    "plt.title('2025GDP排名',color = 'blue', fontsize = 20)\n",
    "#添加坐标轴标签\n",
    "plt.xlabel('GDP',fontsize = 15)\n",
    "plt.ylabel('国家',fontsize = 15)\n",
    "# #添加图例\n",
    "# plt.legend(loc = 'upper right',fontsize = 15 )\n",
    "# # 背景添加网格线\n",
    "# plt.grid(True,alpha = 0.2,color = 'black',linestyle = '--')\n",
    "# #坐标轴刻度字体大小\n",
    "# plt.xticks(rotation = 0, fontsize =15)\n",
    "# plt.yticks(rotation = 0, fontsize =15)\n",
    "# #设置y轴范围\n",
    "# plt.ylim(bottom=0,top=100)\n",
    "# #每个数据点显示数值\n",
    "# for x,y in zip(subjects,scores):\n",
    "#     print(x,y)\n",
    "#     plt.text(x,y,str(y),ha = 'center',va = 'bottom',fontsize =15)\n",
    "#自动优化排版\n",
    "plt.tight_layout()\n",
    "#显示图表\n",
    "plt.show()"
   ]
  },
  {
   "cell_type": "code",
   "execution_count": 2,
   "id": "64a303377201f5d1",
   "metadata": {
    "collapsed": false
   },
   "outputs": [
    {
     "data": {
      "image/png": "[encoded data removed]",
      "text/plain": [
       "<Figure size 800x600 with 1 Axes>"
      ]
     },
     "metadata": {},
     "output_type": "display_data"
    }
   ],
   "source": [
    "import matplotlib.pyplot as plt\n",
    "\n",
    "plt.rcParams['font.family']='SimHei'\n",
    "#箱线图\n",
    "# 模拟 3 门课的成绩\n",
    "data = {\n",
    "    '语文': [82, 85, 88, 70, 90, 76, 84, 83, 95],\n",
    "    '数学': [75, 80, 79, 93, 88, 82, 87, 89, 92],\n",
    "    '英语': [70, 72, 68, 65, 78, 80, 85, 90, 95]\n",
    "}\n",
    "plt.figure(figsize=(8,6))\n",
    "plt.boxplot(data.values(),tick_labels=data.keys())\n",
    "\n",
    "plt.title(\"各科成绩分布(箱线图)\")\n",
    "plt.ylabel(\"分数\")\n",
    "plt.xlabel(\"科目\")\n",
    "plt.grid(True,axis='y',linestyle='--',alpha=0.5)\n",
    "plt.show()"
   ]
  },
  {
   "cell_type": "code",
   "execution_count": null,
   "id": "f594ef756e0ca7f7",
   "metadata": {
    "collapsed": false
   },
   "outputs": [],
   "source": [
    "#多个图的绘制方法\n",
    "month = ['1', '2', '3','4']\n",
    "sales = [150, 200, 180,230]\n",
    "f1 = plt.subplot(2,2,1)\n",
    "f1.plot(month,sales)\n",
    "f2 = plt.subplot(2,2,2)\n",
    "f2.bar(month,sales)"
   ]
  },
  {
   "cell_type": "code",
   "execution_count": null,
   "id": "67e40ca704cea0bf",
   "metadata": {
    "collapsed": false
   },
   "outputs": [],
   "source": [
    "# 分析案例:温度分析\n",
    "import pandas as pd\n",
    "# 1.导入库\n",
    "rcParams['font.sans-serif'] = 'SimHei'\n",
    "# 2.导入数据\n",
    "df = pd.read_csv('data/weather.csv')\n",
    "# 3.绘制气温的趋势变化图\n",
    "df['date'] = pd.to_datetime(df['date'])\n",
    "df = df[df['date'].dt.year ==2015]\n",
    "plt.figure(figsize=(10,10))\n",
    "plt.plot(df['date'],df['temp_max'],label = '最高气温')\n",
    "plt.plot(df['date'],df['temp_min'],label = '最低气温') \n",
    "plt.title('气温变化图')\n",
    "plt.xlabel('date')\n",
    "plt.ylabel('temp')\n",
    "# 4.降水量直方图\n"
   ]
  },
  {
   "cell_type": "code",
   "execution_count": null,
   "id": "789ba019f81311f2",
   "metadata": {
    "collapsed": false,
    "is_executing": true
   },
   "outputs": [],
   "source": [
    "import seaborn as sns\n",
    "plt.rcParams['font.sans-serif'] = 'SimHei'\n",
    "penguins = pd.read_csv('data/penguins.csv')\n",
    "penguins.dropna(inplace=True)"
   ]
  },
  {
   "cell_type": "code",
   "execution_count": null,
   "id": "d0d030a291bd3182",
   "metadata": {
    "collapsed": false
   },
   "outputs": [],
   "source": [
    "sns.histplot(data = penguins, x = 'species')\n"
   ]
  }
 ],
 "metadata": {
  "kernelspec": {
   "display_name": "base",
   "language": "python",
   "name": "python3"
  },
  "language_info": {
   "codemirror_mode": {
    "name": "ipython",
    "version": 3
   },
   "file_extension": ".py",
   "mimetype": "text/x-python",
   "name": "python",
   "nbconvert_exporter": "python",
   "pygments_lexer": "ipython3",
   "version": "3.13.5"
  }
 },
 "nbformat": 4,
 "nbformat_minor": 5
}
