{
 "cells": [
  {
   "cell_type": "code",
   "execution_count": null,
   "id": "9b215b3240fef07c",
   "metadata": {
    "collapsed": false
   },
   "outputs": [],
   "source": [
    "import numpy as np"
   ]
  },
  {
   "cell_type": "code",
   "execution_count": null,
   "id": "6dccb1ea355a966f",
   "metadata": {
    "collapsed": false
   },
   "outputs": [],
   "source": [
    "arr = np.array(5)  # 创建0维的ndarray数组\n",
    "print(arr)\n",
    "print('arr的维度：', arr.ndim)   # 数组的维度number of dimensions"
   ]
  },
  {
   "cell_type": "code",
   "execution_count": null,
   "id": "7f63f9d8a182ceb",
   "metadata": {
    "collapsed": false
   },
   "outputs": [],
   "source": [
    "arr = np.array([1, 2, 3])  # 创建1维的ndarray数组\n",
    "print(arr)\n",
    "print('arr的维度：', arr.ndim)   # 数组的维度number of dimensions"
   ]
  },
  {
   "cell_type": "code",
   "execution_count": null,
   "id": "6c8c063fd99ca68f",
   "metadata": {
    "collapsed": false
   },
   "outputs": [],
   "source": [
    "arr = np.array([ [1, 2, 3], [4, 5, 6]])  # 创建2维的ndarray数组\n",
    "print(arr)\n",
    "print('arr的维度：', arr.ndim)   # 数组的维度number of dimensions"
   ]
  },
  {
   "cell_type": "markdown",
   "id": "b547ecc166af1be9",
   "metadata": {
    "collapsed": false
   },
   "source": [
    "### 同质性"
   ]
  },
  {
   "cell_type": "code",
   "execution_count": null,
   "id": "d5745ded09fe3c21",
   "metadata": {
    "collapsed": false
   },
   "outputs": [],
   "source": [
    "arr = np.array([1, 'hello'])  # 不同的数据类型会被强制转换成相同的数据类型\n",
    "print(arr)"
   ]
  },
  {
   "cell_type": "code",
   "execution_count": null,
   "id": "30f8de5e9511648f",
   "metadata": {
    "collapsed": false
   },
   "outputs": [],
   "source": [
    "arr = np.array([1, 2.5])  # 不同的数据类型会被强制转换成相同的数据类型\n",
    "print(arr)"
   ]
  },
  {
   "cell_type": "markdown",
   "id": "9cbc401806a695ae",
   "metadata": {
    "collapsed": false
   },
   "source": [
    "## 2.ndarray的属性"
   ]
  },
  {
   "cell_type": "code",
   "execution_count": null,
   "id": "c7976a87ed250b7b",
   "metadata": {
    "collapsed": false
   },
   "outputs": [],
   "source": [
    "arr = np.array(1)\n",
    "print(arr)\n",
    "print('数组的形状：', arr.shape)\n",
    "print('数组的维度：', arr.ndim)\n",
    "print('元素的个数：', arr.size)\n",
    "print('元素的数据类型：', arr.dtype)\n",
    "print('元素的转置', arr.T)"
   ]
  },
  {
   "cell_type": "code",
   "execution_count": null,
   "id": "32f9ec7246497da9",
   "metadata": {
    "collapsed": false
   },
   "outputs": [],
   "source": [
    "arr = np.array([1, 2.5, 3])\n",
    "print(arr)\n",
    "print('数组的形状：', arr.shape)\n",
    "print('数组的维度：', arr.ndim)\n",
    "print('元素的个数：', arr.size)\n",
    "print('元素的数据类型：', arr.dtype)\n",
    "print('元素的转置', arr.T)"
   ]
  },
  {
   "cell_type": "code",
   "execution_count": null,
   "id": "1a2a6449e3bce46c",
   "metadata": {
    "collapsed": false
   },
   "outputs": [],
   "source": [
    "arr = np.array([[1,2,3],[4,5,6]])\n",
    "print(arr)\n",
    "print('数组的形状：', arr.shape)\n",
    "print('数组的维度：', arr.ndim)\n",
    "print('元素的个数：', arr.size)\n",
    "print('元素的转置', arr.T)"
   ]
  },
  {
   "cell_type": "markdown",
   "id": "610124688a3e6fa0",
   "metadata": {
    "collapsed": false
   },
   "source": [
    "## 3.ndarray的创建"
   ]
  },
  {
   "cell_type": "code",
   "execution_count": null,
   "id": "2ec0a3a35cadf68b",
   "metadata": {
    "collapsed": false
   },
   "outputs": [],
   "source": [
    "# 基础的创建方法\n",
    "list1 = [4, 5, 6]\n",
    "arr = np.array(list1,dtype=np.float64)\n",
    "print(arr.ndim)  # 属性\n",
    "print(arr)"
   ]
  },
  {
   "cell_type": "code",
   "execution_count": null,
   "id": "b736cf1e764a8e54",
   "metadata": {
    "collapsed": false
   },
   "outputs": [],
   "source": [
    "# copy\n",
    "arr1 = np.copy(arr)  # 元素跟原始的数组相同，但是不是一个数组了\n",
    "print(arr1)\n",
    "arr1[0] = 8\n",
    "print(arr1)\n",
    "print(arr)"
   ]
  },
  {
   "cell_type": "code",
   "execution_count": null,
   "id": "5f8cf752ac1df2b5",
   "metadata": {
    "collapsed": false
   },
   "outputs": [],
   "source": [
    "# 预定义形状\n",
    "# 全0  全1  未初始化  固定值\n",
    "# 全0\n",
    "arr = np.zeros((2,3),dtype=int)\n",
    "print(arr)\n",
    "print(arr.dtype)"
   ]
  },
  {
   "cell_type": "code",
   "execution_count": null,
   "id": "52d60c8312fc23b9",
   "metadata": {
    "collapsed": false
   },
   "outputs": [],
   "source": [
    "arr = np.zeros((200,),dtype=int)\n",
    "print(arr)"
   ]
  },
  {
   "cell_type": "code",
   "execution_count": null,
   "id": "5d5c7b2434fbcadd",
   "metadata": {
    "collapsed": false
   },
   "outputs": [],
   "source": [
    "# 全1\n",
    "arr = np.ones((5,8),dtype=int)\n",
    "print(arr)"
   ]
  },
  {
   "cell_type": "code",
   "execution_count": null,
   "id": "12faceb4a18c6604",
   "metadata": {
    "collapsed": false
   },
   "outputs": [],
   "source": [
    "# 未初始化\n",
    "arr = np.empty((2,3))\n",
    "print(arr)"
   ]
  },
  {
   "cell_type": "code",
   "execution_count": null,
   "id": "a658d8aa164c7eac",
   "metadata": {
    "collapsed": false
   },
   "outputs": [],
   "source": [
    "arr = np.empty((4, 2))\n",
    "print(arr)"
   ]
  },
  {
   "cell_type": "code",
   "execution_count": null,
   "id": "279ef58ebb5113bf",
   "metadata": {
    "collapsed": false
   },
   "outputs": [],
   "source": [
    "arr = np.full((3,4),2025)\n",
    "print(arr)"
   ]
  },
  {
   "cell_type": "code",
   "execution_count": null,
   "id": "ffa8be80576a2213",
   "metadata": {
    "collapsed": false
   },
   "outputs": [],
   "source": [
    "arr1 = np.zeros_like(arr)\n",
    "print(arr1)\n",
    "arr1 = np.empty_like(arr)\n",
    "print(arr1)\n",
    "arr1 = np.ones_like(arr)\n",
    "print(arr1)\n",
    "arr1 = np.full_like(arr,2026)\n",
    "print(arr1)"
   ]
  },
  {
   "cell_type": "code",
   "execution_count": null,
   "id": "e8f0ea3d6e00179",
   "metadata": {
    "collapsed": false
   },
   "outputs": [],
   "source": [
    "#等差数列2 4 6 8 10\n",
    "arr = np.arange(2,11,2)\n",
    "print(arr)"
   ]
  },
  {
   "cell_type": "code",
   "execution_count": null,
   "id": "aa31d9ea48b12f9f",
   "metadata": {
    "collapsed": false
   },
   "outputs": [],
   "source": [
    "#等间隔数列\n",
    "arr = np.linspace(0,100,5)\n",
    "print(arr)"
   ]
  },
  {
   "cell_type": "code",
   "execution_count": null,
   "id": "2c9985e5d4a07ac2",
   "metadata": {
    "collapsed": false
   },
   "outputs": [],
   "source": [
    "#对数间隔数列\n",
    "arr = np.logspace(0,100,4,base = 10)\n",
    "print(arr)\n",
    "\n",
    "arr2 = np.logspace(0,4,3,base = 2)\n",
    "print(arr2)"
   ]
  },
  {
   "cell_type": "markdown",
   "id": "a10110daa8aaafa2",
   "metadata": {
    "collapsed": false
   },
   "source": [
    "## 4特殊矩阵的创建"
   ]
  },
  {
   "cell_type": "code",
   "execution_count": null,
   "id": "9b47d80ea00cecb8",
   "metadata": {
    "collapsed": false
   },
   "outputs": [],
   "source": [
    "#单位矩阵:主对角线上数字为1,其他数字为0\n",
    "arr = np.eye(3,4,dtype = int)\n",
    "print(arr)"
   ]
  },
  {
   "cell_type": "code",
   "execution_count": null,
   "id": "1a7479818a09e092",
   "metadata": {
    "collapsed": false
   },
   "outputs": [],
   "source": [
    "#对角矩阵\n",
    "arr2 = np.diag([5,1,2,3])\n",
    "print(arr2)"
   ]
  },
  {
   "cell_type": "code",
   "execution_count": null,
   "id": "abbf7e8fe23f86fe",
   "metadata": {
    "collapsed": false
   },
   "outputs": [],
   "source": [
    "#随机数组的生成\n",
    "#0~1范围内的浮点数\n",
    "arr3 = np.random.rand(2,3)\n",
    "print(arr3)\n",
    "print(\"\\n\")\n",
    "arr4 = np.random.uniform(3,6,(2,3))\n",
    "print(arr4)"
   ]
  },
  {
   "cell_type": "code",
   "execution_count": null,
   "id": "575ffbc5db31a281",
   "metadata": {
    "collapsed": false
   },
   "outputs": [],
   "source": [
    "#生成指定范围内的随机整数\n",
    "arr5 = np.random.randint(3,30,(3,4))\n",
    "print(arr5)"
   ]
  },
  {
   "cell_type": "code",
   "execution_count": null,
   "id": "c8435667e68041aa",
   "metadata": {
    "collapsed": false
   },
   "outputs": [],
   "source": [
    "#生成随机数列(正态分布)\n",
    "#两边小,中间大\n",
    "arr6 = np.random.randn(5,4 )\n",
    "print(arr6)"
   ]
  },
  {
   "cell_type": "code",
   "execution_count": null,
   "id": "78454459c87c67d",
   "metadata": {
    "collapsed": false
   },
   "outputs": [],
   "source": [
    "np.random.seed(200)\n",
    "arr7 = np.random.randint(1,10,(2,5))\n",
    "print(arr7)"
   ]
  },
  {
   "cell_type": "markdown",
   "id": "9cff31a6972079b8",
   "metadata": {
    "collapsed": false
   },
   "source": [
    "## 5. ndarray的数据类型"
   ]
  },
  {
   "cell_type": "code",
   "execution_count": null,
   "id": "e78127adb352936b",
   "metadata": {
    "collapsed": false
   },
   "outputs": [],
   "source": [
    "#bool 类型\n",
    "arr8 = np.array([1,0,1,0],dtype = 'bool')\n",
    "print(arr8)"
   ]
  },
  {
   "cell_type": "markdown",
   "id": "6979d0173bf6684a",
   "metadata": {
    "collapsed": false
   },
   "source": [
    "## 6索引与切片"
   ]
  },
  {
   "cell_type": "code",
   "execution_count": null,
   "id": "5ec3bcea40ef29a5",
   "metadata": {
    "collapsed": false
   },
   "outputs": [],
   "source": [
    "#一维数组的索引与切片\n",
    "arr9 = np.random.randint(1,100,20)\n",
    "print(arr9)"
   ]
  },
  {
   "cell_type": "code",
   "execution_count": null,
   "id": "a840eebf07d09e79",
   "metadata": {
    "collapsed": false
   },
   "outputs": [],
   "source": [
    "print(arr9[3])#索引\n",
    "print(arr9[:])#全部\n",
    "print(arr9[2:19])#范围\n",
    "print(arr9[arr9>30])#bool大小\n",
    "print(arr9[(arr9>30)&(arr9<70)])"
   ]
  },
  {
   "cell_type": "code",
   "execution_count": null,
   "id": "5470e4e2ac3e8386",
   "metadata": {
    "collapsed": false
   },
   "outputs": [],
   "source": [
    "print(arr9[slice(2,19,3)])"
   ]
  },
  {
   "cell_type": "code",
   "execution_count": null,
   "id": "8997ecb974978f2a",
   "metadata": {
    "collapsed": false
   },
   "outputs": [],
   "source": [
    "#二维数组\n",
    "arr = np.random.randint(1,100,(3,5))\n",
    "print(arr)"
   ]
  },
  {
   "cell_type": "code",
   "execution_count": null,
   "id": "344b90b31268755f",
   "metadata": {
    "collapsed": false
   },
   "outputs": [],
   "source": [
    "print(arr[1,1])#索引\n",
    "print(\"\\n\")\n",
    "print(arr[:,:])\n",
    "print(\"\\n\")\n",
    "print(arr[0,:])\n",
    "print(\"\\n\")\n",
    "print(arr[arr>20])"
   ]
  },
  {
   "cell_type": "markdown",
   "id": "62fdc1d1b8e5e1d7",
   "metadata": {
    "collapsed": false
   },
   "source": [
    "## 7.ndarray的运算"
   ]
  },
  {
   "cell_type": "code",
   "execution_count": null,
   "id": "ef22f5a9b5654bbf",
   "metadata": {
    "collapsed": false
   },
   "outputs": [],
   "source": [
    "a = np.array([3,23,11])\n",
    "b = np.array([1,7,9])\n",
    "print(a+b)\n",
    "print(a - b)\n",
    "print(a*b)\n",
    "print(a/b)\n",
    "print(a%b)"
   ]
  },
  {
   "cell_type": "code",
   "execution_count": null,
   "id": "6efb020b18b055b6",
   "metadata": {
    "collapsed": false
   },
   "outputs": [],
   "source": [
    "c=np.zeros(3)\n",
    "for i in range(len(a)):\n",
    "    c[i] = a[i]+b[i]\n",
    "print(c)    \n",
    "print(c**2)"
   ]
  },
  {
   "cell_type": "code",
   "execution_count": null,
   "id": "5ca6fce5eff491df",
   "metadata": {
    "collapsed": false
   },
   "outputs": [],
   "source": [
    "#二维数组运算\n",
    "a = np.random.randint(1,10,(3,3))\n",
    "b = np.random.randint(1,10,(3,3))\n",
    "print(a)\n",
    "print(b)"
   ]
  },
  {
   "cell_type": "code",
   "execution_count": null,
   "id": "8e32afdb0fd435e6",
   "metadata": {
    "collapsed": false
   },
   "outputs": [],
   "source": [
    "c = np.zeros((3,3),dtype = int)\n",
    "print(a+b)\n",
    "print(a - b)\n",
    "print(a*b)\n",
    "print(a/b)\n",
    " "
   ]
  },
  {
   "cell_type": "code",
   "execution_count": null,
   "id": "8e6ab004b8e67525",
   "metadata": {
    "collapsed": false
   },
   "outputs": [],
   "source": [
    "#广播机制\n",
    "a = np.array([1,2,3])#1*3\n",
    "b = np.array([[4],[5],[6]])#3*1\n",
    "print(a + b)"
   ]
  },
  {
   "cell_type": "code",
   "execution_count": null,
   "id": "aa7bcc4f1cb5c312",
   "metadata": {
    "collapsed": false
   },
   "outputs": [],
   "source": [
    "a = np.random.randint(1,10,(3,3))\n",
    "b = np.random.randint(1,10,(3,3))\n",
    "print(a)\n",
    "print(b) "
   ]
  },
  {
   "cell_type": "code",
   "execution_count": null,
   "id": "399eb94ef14e703d",
   "metadata": {
    "collapsed": false
   },
   "outputs": [],
   "source": [
    "#矩阵乘法运算 np.dot或者a@b\n",
    "print(np.dot(a,b))\n",
    "print(a@b)"
   ]
  },
  {
   "cell_type": "code",
   "execution_count": null,
   "id": "8d822946696bd146",
   "metadata": {
    "collapsed": false
   },
   "outputs": [],
   "source": [
    "#矩阵的转置\n",
    "print(np.transpose(a))\n",
    "print(a.T)"
   ]
  },
  {
   "cell_type": "code",
   "execution_count": null,
   "id": "f72900c285fe6e16",
   "metadata": {
    "collapsed": false
   },
   "outputs": [],
   "source": [
    "#矩阵的求逆\n",
    "print(np.linalg.inv(a))\n",
    "print(a@np.linalg.inv(a))"
   ]
  },
  {
   "cell_type": "markdown",
   "id": "a3087d9d4ba19590",
   "metadata": {
    "collapsed": false
   },
   "source": [
    "## 8.numpy的基本数学函数"
   ]
  },
  {
   "cell_type": "code",
   "execution_count": 95,
   "id": "e66d3d9348522813",
   "metadata": {
    "ExecuteTime": {
     "end_time": "2025-07-20T03:25:16.119178Z",
     "start_time": "2025-07-20T03:25:16.114136Z"
    },
    "collapsed": false
   },
   "outputs": [
    {
     "name": "stdout",
     "output_type": "stream",
     "text": [
      "3.0\n",
      "[2. 3. 4.]\n",
      "[3. 4. 5.]\n"
     ]
    }
   ],
   "source": [
    "##计算平方根\n",
    "print(np.sqrt(9))\n",
    "print(np.sqrt([4,9,16]))\n",
    "\n",
    "arr = np.array([9,16,25])\n",
    "print(np.sqrt(arr))"
   ]
  },
  {
   "cell_type": "code",
   "execution_count": 101,
   "id": "65959c389e0263c0",
   "metadata": {
    "ExecuteTime": {
     "end_time": "2025-07-20T03:26:28.508507Z",
     "start_time": "2025-07-20T03:26:28.504822Z"
    },
    "collapsed": false
   },
   "outputs": [
    {
     "name": "stdout",
     "output_type": "stream",
     "text": [
      "2.718281828459045\n"
     ]
    }
   ],
   "source": [
    "#计算指数 e^X = y\n",
    "print(np.exp(1))"
   ]
  },
  {
   "cell_type": "code",
   "execution_count": 103,
   "id": "a2e16faff667239d",
   "metadata": {
    "ExecuteTime": {
     "end_time": "2025-07-20T03:27:12.108165Z",
     "start_time": "2025-07-20T03:27:12.104139Z"
    },
    "collapsed": false
   },
   "outputs": [
    {
     "name": "stdout",
     "output_type": "stream",
     "text": [
      "0.9969486348916096\n"
     ]
    }
   ],
   "source": [
    "#计算自然对数 ln y = x\n",
    "print(np.log())"
   ]
  },
  {
   "cell_type": "code",
   "execution_count": 117,
   "id": "ab075a8ecd2505e7",
   "metadata": {
    "ExecuteTime": {
     "end_time": "2025-07-20T03:30:56.434384Z",
     "start_time": "2025-07-20T03:30:56.430042Z"
    },
    "collapsed": false
   },
   "outputs": [
    {
     "name": "stdout",
     "output_type": "stream",
     "text": [
      "0.0\n",
      "-1.0\n"
     ]
    }
   ],
   "source": [
    "#计算正弦值 余弦值\n",
    "print(np.sin(0))\n",
    "print(np.cos(np.pi))"
   ]
  },
  {
   "cell_type": "code",
   "execution_count": 118,
   "id": "f03af6d256b41fac",
   "metadata": {
    "ExecuteTime": {
     "end_time": "2025-07-20T03:32:19.702541Z",
     "start_time": "2025-07-20T03:32:19.690295Z"
    },
    "collapsed": false
   },
   "outputs": [
    {
     "name": "stdout",
     "output_type": "stream",
     "text": [
      "[1 2 3]\n"
     ]
    }
   ],
   "source": [
    "#计算绝对值\n",
    "arr = np.array([-1,-2,-3])\n",
    "print(np.abs(arr))"
   ]
  }
 ],
 "metadata": {
  "kernelspec": {
   "display_name": "base",
   "language": "python",
   "name": "python3"
  },
  "language_info": {
   "codemirror_mode": {
    "name": "ipython",
    "version": 2
   },
   "file_extension": ".py",
   "mimetype": "text/x-python",
   "name": "python",
   "nbconvert_exporter": "python",
   "pygments_lexer": "ipython2",
   "version": "3.13.5"
  }
 },
 "nbformat": 4,
 "nbformat_minor": 5
}
