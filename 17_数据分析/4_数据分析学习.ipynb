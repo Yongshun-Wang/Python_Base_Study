{
 "cells": [
  {
   "cell_type": "code",
   "source": [
    "import pandas as pd\n",
    "import numpy as np\n",
    "\n",
    "s = pd.Series([1,2,np.nan,None,pd.NA])\n",
    "df = pd.DataFrame([[1,pd.NA,2],[2,3,3],[None,4,6]],columns=['A','B','C'])\n",
    "'''\n",
    "print(s)\n",
    "#查看是否是缺失值\n",
    "print(s.isna())\n",
    "print(s.isnull())\n",
    "'''\n",
    "print(df.isna())"
   ],
   "metadata": {
    "collapsed": false
   },
   "id": "ca6fb16de6039770",
   "outputs": [],
   "execution_count": null
  },
  {
   "cell_type": "code",
   "source": [
    "print(df.isna().sum())\n",
    "print(s.isna().sum())\n",
    "print('-'*30)\n",
    "#剔除缺失值\n",
    "print(s.dropna())   \n",
    "print(df.dropna())\n",
    "\n",
    "print(df.dropna(how = 'all' ))#如果所有值都是缺失值,删除这一行\n",
    "print(df.dropna(thresh = 3))#如果至少有n个值不是缺失值就保留\n",
    "print(df.dropna(axis=1))#剔除整列\n",
    "print(df.dropna(subset=['A']))#如果某列有缺失值,就剔除这一行"
   ],
   "metadata": {
    "collapsed": false
   },
   "id": "8cbe8d09f04d765a",
   "outputs": [],
   "execution_count": null
  },
  {
   "cell_type": "code",
   "source": [
    "#填充缺失值\n",
    "df = pd.read_csv('data/weather_withna.csv')\n",
    "df.tail()\n",
    "df.isna().sum(axis = 0)\n",
    "df.head()\n",
    "print(df.fillna({'temp_max':20}).tail())#使用字典来填充\n",
    "print('-'*30)\n",
    "print(df.fillna(df[['wind']].mean()).tail())#使用统计值来填充\n",
    "print(df.ffill().tail())#用前面的相邻值填充\n",
    "print(df.bfill().tail())#用后面的相邻值填充"
   ],
   "metadata": {
    "collapsed": false
   },
   "id": "80957cfcdb076eb2",
   "outputs": [],
   "execution_count": null
  },
  {
   "cell_type": "code",
   "source": [
    "#数据类型转换\n",
    "df = pd.read_csv('data/sleep.csv')\n",
    "\n",
    "df['age'] =df['age'].astype('int16')\n",
    "df.dtypes\n"
   ],
   "metadata": {
    "collapsed": false
   },
   "id": "c97d920833d61e20",
   "outputs": [],
   "execution_count": null
  },
  {
   "cell_type": "code",
   "source": [
    "df.gender = df['gender'].astype('category')\n",
    "df.gender\n"
   ],
   "metadata": {
    "collapsed": false
   },
   "id": "1d8402f6bd8f289c",
   "outputs": [],
   "execution_count": null
  },
  {
   "cell_type": "code",
   "source": [
    "df['is_male'] = df['gender'].map({'Female':True, 'Male':False})\n",
    "df.is_male"
   ],
   "metadata": {
    "collapsed": false
   },
   "id": "de69af4df2faabc1",
   "outputs": [],
   "execution_count": null
  },
  {
   "cell_type": "code",
   "source": [
    "#数据变形\n",
    "data ={\n",
    "    'ID':[1,2],\n",
    "    'name':['joe','sam'],\n",
    "    'math':[99,87],\n",
    "    'english':[99,87],\n",
    "    'science':[98,93]\n",
    "}\n",
    "df = pd.DataFrame(data)\n",
    "df.T #行列转置\n",
    "df\n",
    "\n",
    "df2 = pd.melt(df,id_vars=['ID','name'],var_name = '科目',value_name = '成绩')\n",
    "df2.sort_values('name')\n",
    "\n",
    "pd.pivot(df2,index=['ID','name'],columns='科目',values= '成绩')"
   ],
   "metadata": {
    "collapsed": false
   },
   "id": "3118c350b2424d50",
   "outputs": [],
   "execution_count": null
  },
  {
   "cell_type": "code",
   "source": [
    "data = {\n",
    "    \"ID\":[1,2],\n",
    "    \"name\":['joe smith','sam smith'],\n",
    "    'Math':[90,87],\n",
    "    'English':[49,87],\n",
    "    'Science':[87,84]\n",
    "}\n",
    "df = pd.DataFrame(data)\n",
    "df[['first name','last name']] = df['name'].str.split(\" \",expand=True)\n"
   ],
   "metadata": {
    "collapsed": false
   },
   "id": "c1f80bf5171b3756",
   "outputs": [],
   "execution_count": null
  },
  {
   "cell_type": "code",
   "source": [
    "df = pd.read_csv('data/sleep.csv')\n",
    "df = df[['person_id','blood_pressure']]\n",
    "df[['high_blood_pressure','low_blood_pressure']] = df['blood_pressure'].str.split('/',expand=True)\n",
    "df['high_blood_pressure']=df['high_blood_pressure'].astype('int64')\n",
    "df['low_blood_pressure'] = df['low_blood_pressure'].astype('int64')\n",
    "\n",
    "df.info()"
   ],
   "metadata": {
    "collapsed": false
   },
   "id": "792779af15eecd49",
   "outputs": [],
   "execution_count": null
  },
  {
   "cell_type": "code",
   "source": [
    "#数据分箱\n",
    "df1 = pd.read_csv('data/employees.csv')\n",
    "df1.head(10)\n",
    "\n",
    "df1.set_index('employee_id',inplace=True)\n",
    "df1"
   ],
   "metadata": {
    "collapsed": false
   },
   "id": "d46ba1cd359b1fc4",
   "outputs": [],
   "execution_count": null
  },
  {
   "cell_type": "code",
   "source": [
    "pd.cut(df1['salary'], bins=5)#bins=n,n为整数,表示分为n个区间\n",
    "pd.cut(df1['salary'], bins=3).value_counts()\n",
    "df1['收入水平'] = pd.cut(df1['salary'], bins=[0,10000,20000,30000],labels = ['low','medium','high'])\n",
    "pd.qcut(df1['salary'],3).value_counts()#等频率划分"
   ],
   "metadata": {
    "collapsed": false
   },
   "id": "1b891779f447cb97",
   "outputs": [],
   "execution_count": null
  },
  {
   "cell_type": "code",
   "source": [
    "#睡眠质量\n",
    "df = pd.read_csv('data/sleep.csv')\n",
    "df1 = df.head(10)[['person_id','sleep_quality']]\n",
    "df['睡眠质量']=pd.cut(df['sleep_quality'],bins = 3,labels = ['差','中','优'] )\n",
    "df['睡眠质量'].value_counts()\n",
    "#字符串-->类别-->统计\n",
    "#数值-->分箱-->统计\n",
    "print(df['gender'].dtype)\n",
    "print(df['睡眠质量'].dtype)\n",
    "\n",
    "df.rename(columns={\"age\":\"年龄\"},inplace = True)\n",
    "df"
   ],
   "metadata": {
    "collapsed": false
   },
   "id": "c1ce15da2c23c622",
   "outputs": [],
   "execution_count": null
  },
  {
   "cell_type": "code",
   "source": [
    "# 时间数据的处理\n",
    "import pandas as pd\n",
    "d = pd.Timestamp('2015-05-28 10:22')#时间戳\n",
    "d1 = pd.Timestamp('2015-02-28 13:22')\n",
    "print(d)\n",
    "print(\"年\",d.year)\n",
    "print(\"月\",d.month)\n",
    "print(\"日\",d.day)\n",
    "print(d.hour,d.minute,d.second)\n",
    "print(\"季度\",d.quarter)\n",
    "print(\"是否为月底\",d.is_month_end)\n",
    "print(\"星期几\",d.day_name())\n",
    "print(\"转换为天\",d.to_period(\"D\"))#天为维度\n",
    "print(\"转换为季度:\",d.to_period(\"Q\"))\n",
    "print(\"转换为月\",d.to_period(\"M\"))\n",
    "print(\"转换为年\",d.to_period(\"Y\"))"
   ],
   "metadata": {
    "collapsed": false
   },
   "id": "242d29a1b008bd4c",
   "outputs": [],
   "execution_count": null
  },
  {
   "cell_type": "code",
   "source": [
    "#字符串转换为日期类型\n",
    "a = pd.to_datetime('2025.7.22')\n",
    "print(a)\n",
    "print(type(a))\n",
    "print(a.day_name())\n",
    "\n",
    "df = pd.DataFrame(\n",
    "    {\n",
    "        'sales':[100,200,300],\n",
    "        'date':['20250601', '20250602', '20250603']\n",
    "    }\n",
    ")\n",
    "df['datetime'] = pd.to_datetime(df['date'])\n",
    "print(df.info())\n",
    "print(df['datetime'].dt.day_name())\n",
    "print(df['datetime'].dt.year)"
   ],
   "metadata": {
    "collapsed": false
   },
   "id": "bdb8e1b4e4bb32e",
   "outputs": [],
   "execution_count": null
  },
  {
   "cell_type": "code",
   "source": [
    "#csv 日期转换\n",
    "df = pd.read_csv('data/weather.csv', parse_dates=['date'])\n",
    "'''\n",
    "df['datetime'] = pd.to_datetime(df['date'])\n",
    "df['datetime'] = df['datetime'].dt.day_name()\n",
    "'''\n",
    "df.info()\n",
    "df['date'].dt.day_name()"
   ],
   "metadata": {
    "collapsed": false
   },
   "id": "d0fea8d3c7caf4d9",
   "outputs": [],
   "execution_count": null
  },
  {
   "cell_type": "code",
   "source": [
    "#日期数据作为索引\n",
    "#df.set_index('date',inplace=True)\n",
    "print(df.loc[\"2013-01\":\"2013-02\"])\n"
   ],
   "metadata": {
    "collapsed": false
   },
   "id": "c685a132f3551e1d",
   "outputs": [],
   "execution_count": null
  },
  {
   "cell_type": "code",
   "source": [
    "#时间间隔\n",
    "d11 = pd.Timestamp('2023-02-22')\n",
    "d2 = pd.Timestamp('2023-2-23')\n",
    "d3 = d2 - d11\n",
    "print(type(d3))\n",
    "print(d3)  "
   ],
   "metadata": {
    "collapsed": false
   },
   "id": "c09ba1ed6f4595b9",
   "outputs": [],
   "execution_count": null
  },
  {
   "cell_type": "code",
   "source": [
    "# 分组聚合\n",
    "df = pd.read_csv('data/employees.csv')\n",
    "df = df.dropna(subset = ['department_id'])\n",
    "print(df['department_id'].isna().sum())#统计缺失值\n",
    "df['department_id'] = df['department_id'].astype('int')\n",
    "\n",
    "#统计不同部门的平均工资\n",
    "df.groupby('department_id').groups#查看分组\n",
    "df.groupby('department_id').get_group(20)#查看具体的某个分组数据\n",
    "df2 = df.groupby('department_id')[['salary']].mean()\n",
    "df2['salary'] = df2['salary'].round(2)\n",
    "df2 = df2.reset_index()\n",
    "df2.sort_values('salary',ascending= False)"
   ],
   "metadata": {
    "collapsed": false
   },
   "id": "e133eba6330fd784",
   "outputs": [],
   "execution_count": null
  },
  {
   "cell_type": "code",
   "source": [
    "df.groupby(['department_id','job_id'])[['salary']].mean()"
   ],
   "metadata": {
    "collapsed": false
   },
   "id": "756461c3aaded383",
   "outputs": [],
   "execution_count": null
  },
  {
   "cell_type": "code",
   "source": [
    "#导入数据喙\n",
    "df = pd.read_csv('data/penguins.csv')\n",
    "#数据清洗\n",
    "print(df.isna().sum())\n",
    "df.dropna(inplace=True)\n",
    "len(df)\n",
    "#4 数据特征的构造\n",
    "df['sex'] = df['sex'].astype('category')\n",
    "df['bill_radio'] = df['bill_length_mm']/df['bill_depth_mm']\n",
    "#数据分析\n",
    "#数据分箱\n",
    "labels = ['low','medium','high']\n",
    "df['mass_level'] = pd.cut(df['body_mass_g'],bins = 3,labels = labels)\n",
    "#print(df['mass_level'].values_counts())\n",
    "\n",
    "df.groupby(['sex']).agg(\n",
    "    {\n",
    "        'body_mass_g':['mean','count']\n",
    "    }\n",
    ")\n",
    "\n",
    "df.groupby(['sex','island']).agg(\n",
    "    {\n",
    "        'body_mass_g':['mean','count']\n",
    "    }\n",
    ")"
   ],
   "metadata": {
    "collapsed": false
   },
   "id": "d83d7da0d928c123",
   "outputs": [],
   "execution_count": null
  },
  {
   "cell_type": "code",
   "source": [
    "df =pd.read_csv('data/sleep.csv')\n",
    "\n",
    "df.head()\n",
    "df.describe()"
   ],
   "metadata": {
    "collapsed": false
   },
   "id": "3a63f4309df17a01",
   "outputs": [],
   "execution_count": null
  },
  {
   "cell_type": "code",
   "source": [
    "#数据清洗\n",
    "df.isna().sum()\n",
    "df['sleep_disorder'].value_counts()\n",
    "df.drop(columns='sleep_disorder',inplace=True)"
   ],
   "metadata": {
    "collapsed": false
   },
   "id": "423edbaa3590d624",
   "outputs": [],
   "execution_count": null
  },
  {
   "cell_type": "code",
   "source": [
    "df.head()\n",
    "df.isna().sum()\n",
    "#数据特征的构造\n",
    "df['gender'] = df['gender'].astype('category')\n",
    "df.head("
   ],
   "metadata": {
    "collapsed": false
   },
   "id": "692de4c84d235193",
   "outputs": [],
   "execution_count": null
  }
 ],
 "metadata": {
  "kernelspec": {
   "display_name": "Python 3",
   "language": "python",
   "name": "python3"
  },
  "language_info": {
   "codemirror_mode": {
    "name": "ipython",
    "version": 2
   },
   "file_extension": ".py",
   "mimetype": "text/x-python",
   "name": "python",
   "nbconvert_exporter": "python",
   "pygments_lexer": "ipython2",
   "version": "2.7.6"
  }
 },
 "nbformat": 4,
 "nbformat_minor": 5
}
