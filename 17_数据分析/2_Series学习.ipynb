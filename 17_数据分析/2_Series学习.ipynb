{
 "cells": [
  {
   "cell_type": "markdown",
   "source": [
    "## 1.Series 创建"
   ],
   "metadata": {
    "collapsed": false
   },
   "id": "e96527728e2885a0"
  },
  {
   "cell_type": "code",
   "outputs": [],
   "source": [
    "import pandas as pd"
   ],
   "metadata": {
    "collapsed": false
   },
   "id": "f23cdf61136f9d7c",
   "execution_count": null
  },
  {
   "cell_type": "code",
   "outputs": [],
   "source": [
    "#series的创建\n",
    "s = pd.Series([10,2,3,4,5])\n",
    "s1 = pd.Series([10,3,7,8,2,6],index=['A','B','C','D','E','G'],name = 'month')\n",
    "print(s1)"
   ],
   "metadata": {
    "collapsed": false
   },
   "id": "5b8c0a84959c7ab5",
   "execution_count": null
  },
  {
   "cell_type": "code",
   "outputs": [],
   "source": [
    "#通过字典来创建\n",
    "s2 = pd.Series({\"a\":1,\"b\":2,\"c\":3,\"d\":4})\n",
    "s3 = pd.Series(s2,index=[\"a\",\"d\"])\n",
    "print(s3)"
   ],
   "metadata": {
    "collapsed": false
   },
   "id": "99b70a75cd39f2a0",
   "execution_count": null
  },
  {
   "cell_type": "code",
   "outputs": [],
   "source": [
    "#Serie的属性\n",
    "print(s1.index)\n",
    "print(s1.values)\n",
    "print(s1.shape,s.ndim,s.size,s.dtype)"
   ],
   "metadata": {
    "collapsed": false
   },
   "id": "4b4e03056a3510e7",
   "execution_count": null
  },
  {
   "cell_type": "code",
   "outputs": [],
   "source": [
    "print(s3.loc['d'])\n",
    "print(s3.iloc[1])\n",
    "print(s3.at['a'])\n",
    "print(s1<8)\n",
    "print(s.head())"
   ],
   "metadata": {
    "collapsed": false
   },
   "id": "3799c2662933222a",
   "execution_count": null
  },
  {
   "cell_type": "code",
   "outputs": [],
   "source": [
    "#访问数据\n",
    "print(s3['d']) #tag may\n",
    "print(s1)\n",
    "print(s1[s1<8])\n",
    "print(s1.head()) #only output 5\n",
    "print(s1.tail())    "
   ],
   "metadata": {
    "collapsed": false
   },
   "id": "a01feac14f3dc3cc",
   "execution_count": null
  },
  {
   "cell_type": "code",
   "outputs": [],
   "source": [
    "print(s1.describe())"
   ],
   "metadata": {
    "collapsed": false
   },
   "id": "25ea849dcf6f10ba",
   "execution_count": null
  },
  {
   "cell_type": "code",
   "outputs": [],
   "source": [
    "#常见函数\n",
    "import numpy as np\n",
    "s = pd.Series([10,2,np.nan,None,3,4,5], index=['A', 'B', 'C', 'D', 'E','F','G'], name= 'data')\n",
    "print(s)"
   ],
   "metadata": {
    "collapsed": false
   },
   "id": "c5df42cfebe1ea6c",
   "execution_count": null
  },
  {
   "cell_type": "code",
   "outputs": [],
   "source": [
    "s.head(2)\n",
    "s.tail(3)"
   ],
   "metadata": {
    "collapsed": false
   },
   "id": "c368f7fc31bfc8e5",
   "execution_count": null
  },
  {
   "cell_type": "code",
   "outputs": [],
   "source": [
    "print(s.describe())#解释会忽略缺失值\n",
    "print(s.count())"
   ],
   "metadata": {
    "collapsed": false
   },
   "id": "eb69ccdc8ba153d0",
   "execution_count": null
  },
  {
   "cell_type": "code",
   "outputs": [],
   "source": [
    "print(s.keys())\n",
    "print(s.index)"
   ],
   "metadata": {
    "collapsed": false
   },
   "id": "2b2674e46aca7db6",
   "execution_count": null
  },
  {
   "cell_type": "code",
   "outputs": [],
   "source": [
    "print(s.isna())#检查每一个元素是否为缺失值"
   ],
   "metadata": {
    "collapsed": false
   },
   "id": "9bb26fcc66dedc47",
   "execution_count": null
  },
  {
   "cell_type": "code",
   "outputs": [],
   "source": [
    "s.isin([4,5,6])"
   ],
   "metadata": {
    "collapsed": false
   },
   "id": "ae7e6a1a6df8cef7",
   "execution_count": null
  },
  {
   "cell_type": "code",
   "outputs": [],
   "source": [
    "print(s.mean())#平均值\n",
    "\n",
    "print(s.std())#标准差\n",
    "\n",
    "print(s.min())\n",
    "\n",
    "print(s.max())\n",
    "\n",
    "print(s.median())#中位数\n",
    "\n",
    "print(s.var())"
   ],
   "metadata": {
    "collapsed": false
   },
   "id": "603dca5ddfa23227",
   "execution_count": null
  },
  {
   "cell_type": "code",
   "outputs": [],
   "source": [
    "print(s.sort_values())#排序\n",
    "print(s.quantile(1))"
   ],
   "metadata": {
    "collapsed": false
   },
   "id": "77941302fd465a1a",
   "execution_count": null
  },
  {
   "cell_type": "code",
   "outputs": [],
   "source": [
    "#众数\n",
    "s['H'] = 4\n",
    "print(s.mode())\n",
    "\n",
    "print(s.value_counts())\n"
   ],
   "metadata": {
    "collapsed": false
   },
   "id": "b848fb8c965d8f26",
   "execution_count": null
  },
  {
   "cell_type": "code",
   "outputs": [],
   "source": [
    "#去重\n",
    "print(s.drop_duplicates())\n",
    "print(s.unique())"
   ],
   "metadata": {
    "collapsed": false
   },
   "id": "208abb3d774c01f",
   "execution_count": null
  },
  {
   "cell_type": "markdown",
   "source": [
    "## 学生成绩管理系统"
   ],
   "metadata": {
    "collapsed": false
   },
   "id": "1782f29750014cc2"
  },
  {
   "cell_type": "code",
   "outputs": [],
   "source": [
    "#学生成绩管理系统\n",
    "import pandas as pd\n",
    "import numpy as np \n",
    "np.random.seed(42)\n",
    "value_stu = np.random.randint(50,101,10)\n",
    "indexes = []\n",
    "for i in range(1,11):\n",
    "    indexes.append('stu'+str(i))\n",
    "scores = pd.Series(value_stu, index=indexes)"
   ],
   "metadata": {
    "collapsed": false,
    "ExecuteTime": {
     "end_time": "2025-07-21T01:23:34.001096Z",
     "start_time": "2025-07-21T01:23:33.996855Z"
    }
   },
   "id": "98ab59c08afba446",
   "execution_count": 3
  },
  {
   "cell_type": "code",
   "outputs": [
    {
     "name": "stdout",
     "output_type": "stream",
     "text": [
      "stu1     88\n",
      "stu2     78\n",
      "stu3     64\n",
      "stu4     92\n",
      "stu5     57\n",
      "stu6     70\n",
      "stu7     88\n",
      "stu8     68\n",
      "stu9     72\n",
      "stu10    60\n",
      "dtype: int32\n",
      "平均分: 73.7\n",
      "最高分: 92\n",
      "最低分: 57\n",
      "高于平均分的学生:\n",
      " stu1    88\n",
      "stu2    78\n",
      "stu4    92\n",
      "stu7    88\n",
      "dtype: int32 \n"
     ]
    }
   ],
   "source": [
    "print(scores)\n",
    "print('平均分:',scores.mean())\n",
    "print('最高分:',scores.max())\n",
    "print('最低分:',scores.min())\n",
    "mean = scores.mean()\n",
    "print('高于平均分的学生:\\n',scores[scores>mean],'\\n')"
   ],
   "metadata": {
    "collapsed": false,
    "ExecuteTime": {
     "end_time": "2025-07-21T01:23:38.188788Z",
     "start_time": "2025-07-21T01:23:38.182281Z"
    }
   },
   "id": "b5827e80969cd5b0",
   "execution_count": 4
  },
  {
   "cell_type": "markdown",
   "source": [
    "## 温度数据分析"
   ],
   "metadata": {
    "collapsed": false
   },
   "id": "7677a3e3dea8fc6d"
  },
  {
   "cell_type": "code",
   "outputs": [
    {
     "name": "stdout",
     "output_type": "stream",
     "text": [
      "周二    31\n",
      "周四    32\n",
      "周日    33\n",
      "dtype: int64\n",
      "30.0\n",
      "周日    33\n",
      "周四    32\n",
      "周二    31\n",
      "周五    30\n",
      "周三    29\n",
      "周一    28\n",
      "周六    27\n",
      "dtype: int64\n",
      "温度变化最大的两天是周六和周日，变化了6度\n",
      "温度变化最大的两天是周六和周日，温差为6.0℃\n"
     ]
    }
   ],
   "source": [
    "temperatures = pd.Series([28,31,29,32,30,27,33],\n",
    "                         index = ['周一','周二','周三','周四','周五','周六','周日'])\n",
    "print(temperatures[temperatures>30])\n",
    "print(temperatures.mean())\n",
    "print(temperatures.sort_values(ascending=False))\n",
    "\n",
    "vary = 0\n",
    "for i in range(0, len(temperatures)-1):\n",
    "    diff = abs(temperatures.iloc[i+1] - temperatures.iloc[i])\n",
    "    if diff > vary:\n",
    "        vary = diff\n",
    "    day1 = temperatures.index[i]\n",
    "    day2 = temperatures.index[i+1]\n",
    "\n",
    "print(f\"温度变化最大的两天是{day1}和{day2}，变化了{vary}度\")\n",
    "\n",
    "diffs = temperatures.diff().abs()  # 计算相邻温差的绝对值\n",
    "max_index = diffs.idxmax()         # 最大温差的索引（对应后一天）\n",
    "max_day1 = temperatures.index[temperatures.index.get_loc(max_index) - 1]  # 前一天\n",
    "max_day2 = max_index\n",
    "max_diff = diffs.loc[max_index]\n",
    "\n",
    "print(f\"温度变化最大的两天是{max_day1}和{max_day2}，温差为{max_diff}℃\")        "
   ],
   "metadata": {
    "collapsed": false,
    "ExecuteTime": {
     "end_time": "2025-07-21T01:49:12.074418Z",
     "start_time": "2025-07-21T01:49:12.065968Z"
    }
   },
   "id": "286c24fbab7d2705",
   "execution_count": 12
  }
 ],
 "metadata": {
  "kernelspec": {
   "display_name": "Python 3",
   "language": "python",
   "name": "python3"
  },
  "language_info": {
   "codemirror_mode": {
    "name": "ipython",
    "version": 2
   },
   "file_extension": ".py",
   "mimetype": "text/x-python",
   "name": "python",
   "nbconvert_exporter": "python",
   "pygments_lexer": "ipython2",
   "version": "2.7.6"
  }
 },
 "nbformat": 4,
 "nbformat_minor": 5
}
