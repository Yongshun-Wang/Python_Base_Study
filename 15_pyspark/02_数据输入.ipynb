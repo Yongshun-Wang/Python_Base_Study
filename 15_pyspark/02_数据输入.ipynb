{
 "cells": [
  {
   "cell_type": "code",
   "execution_count": 1,
   "id": "7eda3bf5",
   "metadata": {},
   "outputs": [],
   "source": [
    "# 导包\n",
    "from pyspark import SparkConf,SparkContext"
   ]
  },
  {
   "cell_type": "code",
   "execution_count": null,
   "id": "8a1b72dc",
   "metadata": {},
   "outputs": [
    {
     "name": "stdout",
     "output_type": "stream",
     "text": [
      "[1, 2, 3, 4, 5]\n",
      "[1, 2, 3, 4, 5]\n",
      "['a', 'b', 'c', 'd', 'e', 'f']\n",
      "[1, 2, 3, 4, 5]\n",
      "['key1', 'key2']\n"
     ]
    }
   ],
   "source": [
    "# 创建SparkConf类对象\n",
    "conf = SparkConf().setMaster(\"local[*]\").setAppName(\"test_spark_app\")\n",
    "# 基于SparkConf类对象创建SparkContext对象\n",
    "sc  =SparkContext(conf=conf)\n",
    "# 通过parallelize方法将python对象加载到Spark内，成为RDD对象\n",
    "rdd1 = sc.parallelize([1,2,3,4,5])\n",
    "rdd2 = sc.parallelize((1,2,3,4,5))\n",
    "rdd3 = sc.parallelize(\"abcdef\")\n",
    "rdd4 = sc.parallelize({1,2,3,4,5})\n",
    "rdd5 = sc.parallelize({\"key1\":\"values1\",\"key2\":\"values2\"})\n",
    "#打印出RDD数据\n",
    "print(rdd1.collect())\n",
    "print(rdd2.collect())\n",
    "print(rdd3.collect())\n",
    "print(rdd4.collect())\n",
    "print(rdd5.collect())\n",
    "\n",
    "sc.stop()\n"
   ]
  },
  {
   "cell_type": "code",
   "execution_count": 7,
   "id": "13c61ea6",
   "metadata": {},
   "outputs": [
    {
     "name": "stdout",
     "output_type": "stream",
     "text": [
      "[',employee_id,first_name,last_name,email,phone_number,job_id,salary,commission_pct,manager_id,department_id', '102,202,Pat,Fay,PFAY,603.123.6666,MK_REP,6000.0,,201.0,20.0', '103,203,Susan,Mavris,SMAVRIS,515.123.7777,HR_REP,6500.0,,101.0,40.0', '104,204,Hermann,Baer,HBAER,515.123.8888,PR_REP,10000.0,,101.0,70.0', '105,205,Shelley,Higgins,SHIGGINS,515.123.8080,AC_MGR,12000.0,,101.0,110.0', '106,206,William,Gietz,WGIETZ,515.123.8181,AC_ACCOUNT,8300.0,,205.0,110.0']\n"
     ]
    }
   ],
   "source": [
    "# RDD读取文件\n",
    "# 创建SparkConf类对象\n",
    "conf = SparkConf().setMaster(\"local[*]\").setAppName(\"test_spark_app\")\n",
    "# 基于SparkConf类对象创建SparkContext对象\n",
    "# sc  =SparkContext(conf=conf)\n",
    "filepath = \"E:\\\\Python_base_study\\\\17_数据分析\\\\data\\\\new.csv\"\n",
    "rdd = sc.textFile(filepath)\n",
    "print(rdd.collect())"
   ]
  }
 ],
 "metadata": {
  "kernelspec": {
   "display_name": "py310",
   "language": "python",
   "name": "python3"
  },
  "language_info": {
   "codemirror_mode": {
    "name": "ipython",
    "version": 3
   },
   "file_extension": ".py",
   "mimetype": "text/x-python",
   "name": "python",
   "nbconvert_exporter": "python",
   "pygments_lexer": "ipython3",
   "version": "3.10.18"
  }
 },
 "nbformat": 4,
 "nbformat_minor": 5
}
