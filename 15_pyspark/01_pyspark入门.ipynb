{
 "cells": [
  {
   "cell_type": "code",
   "execution_count": 1,
   "id": "a71f98b5",
   "metadata": {},
   "outputs": [],
   "source": [
    "# 导包\n",
    "from pyspark import SparkConf,SparkContext"
   ]
  },
  {
   "cell_type": "code",
   "execution_count": 2,
   "id": "a06fd4d0",
   "metadata": {},
   "outputs": [
    {
     "name": "stdout",
     "output_type": "stream",
     "text": [
      "3.1.2\n"
     ]
    }
   ],
   "source": [
    "# 创建SparkConf类对象\n",
    "conf = SparkConf().setMaster(\"local[*]\").setAppName(\"test_spark_app\")\n",
    "# 基于SparkConf类对象创建SparkContext对象\n",
    "sc  =SparkContext(conf=conf)\n",
    "# 打印Pyspark的与运行版本\n",
    "print(sc.version)\n",
    "#停止SparkContext对象的陨星（停止pyspark程序）\n",
    "sc.stop()"
   ]
  }
 ],
 "metadata": {
  "kernelspec": {
   "display_name": "py310",
   "language": "python",
   "name": "python3"
  },
  "language_info": {
   "codemirror_mode": {
    "name": "ipython",
    "version": 3
   },
   "file_extension": ".py",
   "mimetype": "text/x-python",
   "name": "python",
   "nbconvert_exporter": "python",
   "pygments_lexer": "ipython3",
   "version": "3.10.18"
  }
 },
 "nbformat": 4,
 "nbformat_minor": 5
}
