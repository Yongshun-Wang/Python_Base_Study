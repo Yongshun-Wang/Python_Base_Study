{
 "cells": [
  {
   "cell_type": "code",
   "execution_count": 9,
   "id": "5d560c0e",
   "metadata": {},
   "outputs": [],
   "source": [
    "from pyspark import SparkConf,SparkContext\n",
    "import os\n",
    "os.environ['PYSPARK_PYTHON'] = \"C:\\\\Users\\\\wys31\\\\.conda\\\\envs\\\\py310\\\\python.exe\""
   ]
  },
  {
   "cell_type": "code",
   "execution_count": 11,
   "id": "bcbf6a5e",
   "metadata": {},
   "outputs": [],
   "source": [
    "conf = SparkConf().setMaster(\"local[*]\").setAppName(\"test_spark_\")\n",
    "sc = SparkContext(conf = conf)"
   ]
  },
  {
   "cell_type": "code",
   "execution_count": 16,
   "id": "315a3d53",
   "metadata": {},
   "outputs": [
    {
     "name": "stdout",
     "output_type": "stream",
     "text": [
      "[15, 25, 35, 45, 55]\n"
     ]
    }
   ],
   "source": [
    "# 准备一个RDD\n",
    "rdd = sc.parallelize([1,2,3,4,5])\n",
    "\n",
    "def func(data):\n",
    "    return data*10\n",
    "\n",
    "rdd2 = rdd.map(lambda x:x*10).map(lambda x:x+5)\n",
    "print(rdd2.collect())\n"
   ]
  }
 ],
 "metadata": {
  "kernelspec": {
   "display_name": "py310",
   "language": "python",
   "name": "python3"
  },
  "language_info": {
   "codemirror_mode": {
    "name": "ipython",
    "version": 3
   },
   "file_extension": ".py",
   "mimetype": "text/x-python",
   "name": "python",
   "nbconvert_exporter": "python",
   "pygments_lexer": "ipython3",
   "version": "3.10.18"
  }
 },
 "nbformat": 4,
 "nbformat_minor": 5
}
